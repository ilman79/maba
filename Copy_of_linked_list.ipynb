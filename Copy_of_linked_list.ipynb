{
  "nbformat": 4,
  "nbformat_minor": 0,
  "metadata": {
    "colab": {
      "name": "Copy of linked-list.ipynb",
      "provenance": [],
      "include_colab_link": true
    },
    "kernelspec": {
      "name": "python3",
      "display_name": "Python 3"
    },
    "language_info": {
      "name": "python"
    }
  },
  "cells": [
    {
      "cell_type": "markdown",
      "metadata": {
        "id": "view-in-github",
        "colab_type": "text"
      },
      "source": [
        "<a href=\"https://colab.research.google.com/github/ilman79/maba/blob/main/Copy_of_linked_list.ipynb\" target=\"_parent\"><img src=\"https://colab.research.google.com/assets/colab-badge.svg\" alt=\"Open In Colab\"/></a>"
      ]
    },
    {
      "cell_type": "markdown",
      "source": [
        "# Kelas Linked List"
      ],
      "metadata": {
        "id": "X4xgrfAhKyb-"
      }
    },
    {
      "cell_type": "code",
      "execution_count": null,
      "metadata": {
        "id": "q9ltn0zHTBYq"
      },
      "outputs": [],
      "source": [
        "class Node: # Gerbong dari Linked-List terdiri dari data dan pointer/link\n",
        "  def __init__(self, init_data):\n",
        "    self.data = init_data\n",
        "    self.next = None\n",
        "\n",
        "class LinkedList: # Kelas yang berisi operasi-operasi di Linked-List\n",
        "  def __init__(self):\n",
        "    self.head = None\n",
        "\n",
        "  def insert(self, item): # Item baru menjadi Head\n",
        "    newNode = Node(item)\n",
        "    newNode.next = self.head\n",
        "    self.head = newNode\n",
        "\n",
        "## LATIHAN\n",
        "  def insertMid(self, item):\n",
        "    # CODE\n",
        "     # if list is empty \n",
        "        if (self.head == None): \n",
        "            self.head = Node(item) \n",
        "  \n",
        "        else: \n",
        "              \n",
        "            # get a new node \n",
        "            newNode = Node(item) \n",
        "  \n",
        "            # assign values to the slow \n",
        "            # and fast pointers \n",
        "            slow = self.head\n",
        "            fast = self.head.next\n",
        "  \n",
        "            while (fast != None and \n",
        "                   fast.next != None): \n",
        "                  \n",
        "                # move slow pointer to next node \n",
        "                slow = slow.next\n",
        "  \n",
        "                # move fast pointer two nodes \n",
        "                # at a time \n",
        "                fast = fast.next.next\n",
        "  \n",
        "            # insert the 'newNode' and \n",
        "            # adjust the required links \n",
        "            newNode.next = slow.next\n",
        "            slow.next = newNode\n",
        "  def insertTail(self, item):\n",
        "    # CODE\n",
        "    newNode = Node(item)\n",
        "    if (self.head is None):\n",
        "      self.head = newNode\n",
        "      return\n",
        "    last = self.head\n",
        "    while(last.next):\n",
        "      last = last.next\n",
        "      last.next=newNode\n",
        "##\n",
        "  def remove(self, item):\n",
        "    current = self.head\n",
        "\n",
        "    if current is not None:\n",
        "      if current.data == item:\n",
        "        self.head = current.next\n",
        "        current = None\n",
        "        return\n",
        "\n",
        "    while current is not None:\n",
        "      if current.data == item:\n",
        "        break\n",
        "      prev = current\n",
        "      current = current.next\n",
        "\n",
        "    if current == None:\n",
        "      return\n",
        "\n",
        "    prev.next = current.next\n",
        "    current = None\n",
        "\n",
        "  def showList(self):\n",
        "    printList = self.head\n",
        "    while printList is not None:\n",
        "      print(printList.data)\n",
        "      printList = printList.next\n",
        "\n",
        "  def size(self):\n",
        "    printList = self.head\n",
        "    count = 0\n",
        "    while printList is not None:\n",
        "      count += 1\n",
        "      printList = printList.next\n",
        "      \n",
        "    return count"
      ]
    },
    {
      "cell_type": "markdown",
      "source": [
        "# Contoh-Contoh"
      ],
      "metadata": {
        "id": "4Jjc3GFEK3rh"
      }
    },
    {
      "cell_type": "code",
      "source": [
        "myList = LinkedList()"
      ],
      "metadata": {
        "id": "pBxT6YUjVmTK"
      },
      "execution_count": null,
      "outputs": []
    },
    {
      "cell_type": "code",
      "source": [
        "myList.head = Node(10)"
      ],
      "metadata": {
        "id": "7np23xcIVust"
      },
      "execution_count": null,
      "outputs": []
    },
    {
      "cell_type": "code",
      "source": [
        "e2 = Node(20)\n",
        "e3 = Node(30)\n",
        "e4 = Node(40)"
      ],
      "metadata": {
        "id": "VYXZgRSnV1PU"
      },
      "execution_count": null,
      "outputs": []
    },
    {
      "cell_type": "code",
      "source": [
        "# 10, 20, 30, 40\n",
        "myList.head.next = e2\n",
        "e2.next = e3\n",
        "e3.next = e4"
      ],
      "metadata": {
        "id": "vVmnB-glWAi3"
      },
      "execution_count": null,
      "outputs": []
    },
    {
      "cell_type": "code",
      "source": [
        "myList.size()"
      ],
      "metadata": {
        "colab": {
          "base_uri": "https://localhost:8080/"
        },
        "id": "OEx7v1aVWYfg",
        "outputId": "e7834512-d3f7-43d4-dbae-db15d961081b"
      },
      "execution_count": null,
      "outputs": [
        {
          "output_type": "execute_result",
          "data": {
            "text/plain": [
              "4"
            ]
          },
          "metadata": {},
          "execution_count": 11
        }
      ]
    },
    {
      "cell_type": "code",
      "source": [
        "myList.showList()"
      ],
      "metadata": {
        "colab": {
          "base_uri": "https://localhost:8080/"
        },
        "id": "O48T20duWdhP",
        "outputId": "31e481a4-96fe-46c3-f8ef-92511a976dc6"
      },
      "execution_count": null,
      "outputs": [
        {
          "output_type": "stream",
          "name": "stdout",
          "text": [
            "10\n",
            "20\n",
            "30\n",
            "40\n"
          ]
        }
      ]
    },
    {
      "cell_type": "code",
      "source": [
        "myList.insert(50)"
      ],
      "metadata": {
        "id": "dVv1AfjwXEOD"
      },
      "execution_count": null,
      "outputs": []
    },
    {
      "cell_type": "code",
      "source": [
        "myList.showList()"
      ],
      "metadata": {
        "colab": {
          "base_uri": "https://localhost:8080/"
        },
        "id": "pO116vXoXPHd",
        "outputId": "fb65014f-20bb-419a-c185-d6efe3daaf71"
      },
      "execution_count": null,
      "outputs": [
        {
          "output_type": "stream",
          "name": "stdout",
          "text": [
            "50\n",
            "10\n",
            "20\n",
            "30\n",
            "40\n"
          ]
        }
      ]
    },
    {
      "cell_type": "code",
      "source": [
        "myList.remove(50)"
      ],
      "metadata": {
        "id": "XhmUQICcYZT6"
      },
      "execution_count": null,
      "outputs": []
    },
    {
      "cell_type": "code",
      "source": [
        "myList.showList()"
      ],
      "metadata": {
        "colab": {
          "base_uri": "https://localhost:8080/"
        },
        "id": "SoqayFiCYgQI",
        "outputId": "a8ac1f17-7e50-4170-b0eb-a00a9c66504b"
      },
      "execution_count": null,
      "outputs": [
        {
          "output_type": "stream",
          "name": "stdout",
          "text": [
            "10\n",
            "20\n",
            "30\n",
            "40\n"
          ]
        }
      ]
    },
    {
      "cell_type": "code",
      "source": [
        "myList.remove(20)"
      ],
      "metadata": {
        "id": "7AjlZvy9YimP"
      },
      "execution_count": null,
      "outputs": []
    },
    {
      "cell_type": "code",
      "source": [
        "myList.showList()"
      ],
      "metadata": {
        "colab": {
          "base_uri": "https://localhost:8080/"
        },
        "id": "3-OwpI19YldS",
        "outputId": "7c06a336-1526-49d8-e402-ddd432000bcb"
      },
      "execution_count": null,
      "outputs": [
        {
          "output_type": "stream",
          "name": "stdout",
          "text": [
            "10\n",
            "30\n",
            "40\n"
          ]
        }
      ]
    },
    {
      "cell_type": "markdown",
      "source": [
        "# LATIHAN\n",
        "\n",
        "Diberikan nilai/item yang disimpan ke dalam linked list \n",
        "\n",
        "` A = 10, 20, 30, 40 `\n",
        "\n",
        "Kemudian, kita ingin menambahkan `A` dengan item baru, misalnya `60`. Dengan menggunakan perintah `insert` (yang sudah dibuat pada code di atas), maka linked list `A` menjadi\n",
        "\n",
        "`A = 60, 10, 20, 30, 40`\n",
        "\n",
        "Dengan kata lain, apapun __item baru__ yang kita input akan selalu menjadi __head__ dari linked list nya. Modifikasi fungsi `insertMid` dan `insertTail` di dalam kelas `LinkedList` sehingga dapat digunakan untuk:\n"
      ],
      "metadata": {
        "id": "jN72r9gVKGkW"
      }
    },
    {
      "cell_type": "markdown",
      "source": [
        "##  Menambahkan item baru di tengah dari linked list \n",
        "    \n",
        "Contoh: item baru adalah 60, kemudian kita jalankan `insertMid(60)` maka outputnya adalah `10 20 30 60 40`"
      ],
      "metadata": {
        "id": "VSMjNXrlOSYv"
      }
    },
    {
      "cell_type": "code",
      "source": [
        "myList.insertMid(60)"
      ],
      "metadata": {
        "id": "AoTfyQLVYmye"
      },
      "execution_count": null,
      "outputs": []
    },
    {
      "cell_type": "code",
      "source": [
        "myList.showList()"
      ],
      "metadata": {
        "id": "dt89ZOhQKeuc",
        "outputId": "a70db48a-240d-414e-b1f5-6894c2eee959",
        "colab": {
          "base_uri": "https://localhost:8080/"
        }
      },
      "execution_count": null,
      "outputs": [
        {
          "output_type": "stream",
          "name": "stdout",
          "text": [
            "10\n",
            "20\n",
            "60\n",
            "30\n",
            "40\n"
          ]
        }
      ]
    },
    {
      "cell_type": "markdown",
      "source": [
        "## Menambahkan item baru di akhir (menjadi tail) dari linked list \n",
        "\n",
        "Contoh: item baru adalah 60, kemudian kita jalankan `insertTail(60)` maka outputnya adalah `10 20 30 40 60`"
      ],
      "metadata": {
        "id": "AvY1cHbkOc46"
      }
    },
    {
      "cell_type": "code",
      "source": [
        "myList.insertTail(60)"
      ],
      "metadata": {
        "id": "rSZmslxVOfxL"
      },
      "execution_count": null,
      "outputs": []
    },
    {
      "cell_type": "code",
      "source": [
        "myList.showList()"
      ],
      "metadata": {
        "id": "XR4wcNFs7xBY",
        "outputId": "363906aa-da83-4635-d052-73dc9bd8df29",
        "colab": {
          "base_uri": "https://localhost:8080/"
        }
      },
      "execution_count": null,
      "outputs": [
        {
          "output_type": "stream",
          "name": "stdout",
          "text": [
            "10\n",
            "20\n",
            "30\n",
            "40\n",
            "60\n"
          ]
        }
      ]
    }
  ]
}